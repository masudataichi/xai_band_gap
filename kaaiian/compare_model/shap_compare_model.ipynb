{
 "cells": [
  {
   "cell_type": "code",
   "execution_count": 33,
   "metadata": {},
   "outputs": [
    {
     "name": "stdout",
     "output_type": "stream",
     "text": [
      "---------------------------\n",
      "---------------------------\n",
      "Aのシャープレイ値: 7.00\n",
      "Bのシャープレイ値: 9.00\n"
     ]
    }
   ],
   "source": [
    "from math import factorial\n",
    "rewards = {\n",
    "    ('A',): 4,\n",
    "    ('B',): 6,\n",
    "    ('C',): 10,\n",
    "    ('A', 'B'): 16,\n",
    "    ('A', 'C'): 22,\n",
    "    ('B', 'C'): 30,\n",
    "    ('A', 'B', 'C'): 60\n",
    "}\n",
    "\n",
    "\n",
    "\n",
    "# 参加者のリスト\n",
    "participants = ['A', 'B']\n",
    "\n",
    "def powerset(iterable):\n",
    "    from itertools import chain, combinations\n",
    "    s = list(iterable)\n",
    "    return list(chain.from_iterable(combinations(s, r) for r in range(len(s)+1)))\n",
    "\n",
    "def calculate_exact_shapley_values(rewards, players):\n",
    "\n",
    "    # 全参加者数\n",
    "    n = len(players)\n",
    "    \n",
    "    # シャープレイ値を格納する辞書\n",
    "    shapley_values = {participant: 0 for participant in players}\n",
    "    \n",
    "    # 全ての参加者に対してシャープレイ値を計算\n",
    "    for participant in players:\n",
    "\n",
    "        print(\"---------------------------\")\n",
    "        # 全ての部分集合に対する処理\n",
    "        for S in powerset(players):\n",
    "\n",
    "            \n",
    "            if participant not in S:\n",
    "                # Sにparticipantを加えた集合\n",
    "                \n",
    "           \n",
    "                S_with_participant = tuple(sorted(S + (participant,)))\n",
    "                \n",
    "                \n",
    "                # 集合Sの要素数\n",
    "                s = len(S)\n",
    "                # 集合Sにparticipantを加えることによる報酬の増加量\n",
    "                marginal_contribution = rewards.get(S_with_participant, 0) - rewards.get(tuple(sorted(S)), 0)\n",
    "\n",
    "\n",
    "                # シャープレイ値に加算\n",
    "                shapley_values[participant] += (factorial(s) * factorial(n - s - 1) / factorial(n)) * marginal_contribution\n",
    "    \n",
    "    return shapley_values\n",
    "\n",
    "# シャープレイ値の再計算\n",
    "shapley_values_correct = calculate_exact_shapley_values(rewards, participants)\n",
    "\n",
    "# 再計算した結果の出力\n",
    "for participant, value in shapley_values_correct.items():\n",
    "    print(f\"{participant}のシャープレイ値: {value:.2f}\")"
   ]
  },
  {
   "cell_type": "markdown",
   "metadata": {},
   "source": []
  }
 ],
 "metadata": {
  "kernelspec": {
   "display_name": "ensemble",
   "language": "python",
   "name": "python3"
  },
  "language_info": {
   "codemirror_mode": {
    "name": "ipython",
    "version": 3
   },
   "file_extension": ".py",
   "mimetype": "text/x-python",
   "name": "python",
   "nbconvert_exporter": "python",
   "pygments_lexer": "ipython3",
   "version": "3.11.0"
  }
 },
 "nbformat": 4,
 "nbformat_minor": 2
}
