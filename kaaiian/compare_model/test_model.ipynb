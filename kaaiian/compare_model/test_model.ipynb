{
 "cells": [
  {
   "cell_type": "code",
   "execution_count": 11,
   "metadata": {},
   "outputs": [
    {
     "name": "stdout",
     "output_type": "stream",
     "text": [
      "Sのシャープレイ値: 9.390\n",
      "GBのシャープレイ値: 3.674\n",
      "RFのシャープレイ値: 1.759\n",
      "Dのシャープレイ値: -8.338\n"
     ]
    }
   ],
   "source": [
    "from math import factorial\n",
    "import pandas as pd\n",
    "from itertools import chain, combinations\n",
    "\n",
    "csv_data = pd.read_csv(\"ensemble_model_list_2_sorted_modified_T.csv\")\n",
    "model_dict = {}\n",
    "for i in range(len(csv_data.iloc[:,0])):\n",
    "    model_key = tuple(sorted(csv_data.iloc[i,0].split(\"+\")))\n",
    "    model_dict[model_key] = csv_data.iloc[i,4]\n",
    "rewards = model_dict\n",
    "\n",
    "\n",
    "\n",
    "# 参加者のリスト\n",
    "# 'R', 'L', 'G', 'RF', 'GB', 'S', 'D'\n",
    "participants = ['S', 'GB', 'RF', 'D']\n",
    "\n",
    "def powerset(iterable):\n",
    "    s = list(iterable)\n",
    "    return list(chain.from_iterable(combinations(s, r) for r in range(len(s)+1)))\n",
    "\n",
    "def calculate_exact_shapley_values(rewards, players):\n",
    "\n",
    "    # 全参加者数\n",
    "    n = len(players)\n",
    "    \n",
    "    # シャープレイ値を格納する辞書\n",
    "    shapley_values = {participant: 0 for participant in players}\n",
    "    \n",
    "    # 全ての参加者に対してシャープレイ値を計算\n",
    "    for participant in players:\n",
    "\n",
    "        # 全ての部分集合に対する処理\n",
    "        for S in powerset(players):\n",
    "\n",
    "            \n",
    "            if participant not in S:\n",
    "                # Sにparticipantを加えた集合\n",
    "                \n",
    "           \n",
    "                S_with_participant = tuple(sorted(S + (participant,)))\n",
    "                \n",
    "                \n",
    "                # 集合Sの要素数\n",
    "                s = len(S)\n",
    "                # 集合Sにparticipantを加えることによる報酬の増加量\n",
    "                marginal_contribution = rewards.get(S_with_participant, 0) - rewards.get(tuple(sorted(S)), 0)\n",
    "\n",
    "\n",
    "                # シャープレイ値に加算\n",
    "                shapley_values[participant] += (factorial(s) * factorial(n - s - 1) / factorial(n)) * marginal_contribution\n",
    "    \n",
    "    return shapley_values\n",
    "\n",
    "# シャープレイ値の再計算\n",
    "shapley_values_correct = calculate_exact_shapley_values(rewards, participants)\n",
    "\n",
    "# 再計算した結果の出力\n",
    "for participant, value in shapley_values_correct.items():\n",
    "    print(f\"{participant}のシャープレイ値: {value:.3f}\")"
   ]
  }
 ],
 "metadata": {
  "kernelspec": {
   "display_name": "ensemble",
   "language": "python",
   "name": "python3"
  },
  "language_info": {
   "codemirror_mode": {
    "name": "ipython",
    "version": 3
   },
   "file_extension": ".py",
   "mimetype": "text/x-python",
   "name": "python",
   "nbconvert_exporter": "python",
   "pygments_lexer": "ipython3",
   "version": "3.11.0"
  }
 },
 "nbformat": 4,
 "nbformat_minor": 2
}
